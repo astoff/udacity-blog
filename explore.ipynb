{
 "cells": [
  {
   "cell_type": "code",
   "execution_count": 1,
   "metadata": {},
   "outputs": [
    {
     "name": "stdout",
     "output_type": "stream",
     "text": [
      "Using matplotlib backend: Qt5Agg\n"
     ]
    }
   ],
   "source": [
    "import numpy as np\n",
    "import pandas as pd\n",
    "import pycountry\n",
    "import matplotlib.pyplot as plt\n",
    "\n",
    "%config Completer.use_jedi = False\n",
    "%matplotlib auto"
   ]
  },
  {
   "cell_type": "markdown",
   "metadata": {},
   "source": [
    "We load the StackOverflow survey data, and add a more convenient Country columns, named `LOCATION`, using ISO alpha-3 codes."
   ]
  },
  {
   "cell_type": "code",
   "execution_count": 2,
   "metadata": {},
   "outputs": [
    {
     "name": "stderr",
     "output_type": "stream",
     "text": [
      "/usr/lib/python3.7/site-packages/IPython/core/interactiveshell.py:3058: DtypeWarning: Columns (8,12,13,14,15,16,50,51,52,53,55,56,57,58,59,60,61,62,63,64,65,66,67,68,69,70,71,72,73,74,75,76,77,78,79,80,81,82,83,84,85,93,94,95,96,97,98,99,100,101,102,103,104,105,106,107,108,109,110,111,112,113,114,115,116,117,118,119,120,121,122,123,124,125,126,127,128) have mixed types. Specify dtype option on import or set low_memory=False.\n",
      "  interactivity=interactivity, compiler=compiler, result=result)\n"
     ]
    }
   ],
   "source": [
    "def lookup_country(x):\n",
    "    try:\n",
    "        return pycountry.countries.lookup(x).alpha_3\n",
    "    except:\n",
    "        return None\n",
    "\n",
    "YEAR = 2018\n",
    "SALARY_FIELD = 'ConvertedSalary'\n",
    "df_surv = pd.read_csv('SODS{}/survey_results_public.csv'.format(YEAR))\n",
    "df_surv['Pay'] = df_surv[SALARY_FIELD]\n",
    "df_surv['LOCATION'] = df_surv['Country'].apply(lookup_country)"
   ]
  },
  {
   "cell_type": "markdown",
   "metadata": {},
   "source": [
    "We focus on those countries where at least 500 respondents report a salary and full-time employment status.\n"
   ]
  },
  {
   "cell_type": "code",
   "execution_count": 3,
   "metadata": {},
   "outputs": [],
   "source": [
    "num_respondents = df_surv['LOCATION'].value_counts()\n",
    "num_salaries = df_surv[(df_surv['Employment'] == 'Employed full-time')\n",
    "                  & (df_surv['Pay'].notnull())]['LOCATION'].value_counts()\n",
    "interesting_countries = list(num_salaries[num_salaries >= 500].index)"
   ]
  },
  {
   "cell_type": "markdown",
   "metadata": {},
   "source": [
    "# Countries and salaries\n",
    "\n",
    "Compute the purchasing power parity (PPP) factors."
   ]
  },
  {
   "cell_type": "code",
   "execution_count": 4,
   "metadata": {},
   "outputs": [],
   "source": [
    "exchange_rate = pd.read_csv('exchange.csv')\n",
    "ppp = pd.read_csv('ppp.csv')\n",
    "df_currency = exchange_rate[['LOCATION', 'TIME', 'Value']]\\\n",
    "    .rename(columns={'Value': 'EXCH'})\\\n",
    "    .merge(ppp[['LOCATION', 'TIME', 'Value']]\\\n",
    "           .rename(columns={'Value': 'PPP'}),\n",
    "           on = ['LOCATION', 'TIME'])\n",
    "df_currency['PPPFactor'] = df_currency['EXCH'] / df_currency['PPP']"
   ]
  },
  {
   "cell_type": "markdown",
   "metadata": {},
   "source": [
    "Now we load the OECD income data, select the most recent median income figure. This wans't used in the end, because it is for disposable income, and we don't have this information form the SO survey."
   ]
  },
  {
   "cell_type": "code",
   "execution_count": 5,
   "metadata": {},
   "outputs": [],
   "source": [
    "idd = pd.read_csv('IDD_26112019171956454.csv')\n",
    "df_pay = idd[(idd['MEASURE'] == 'MEDIANC') & (idd['AGE'] == 'WA')]\\\n",
    "    .sort_values('TIME')\\\n",
    "    .drop_duplicates(subset=['LOCATION'])\\\n",
    "    [['LOCATION', 'TIME', 'Unit Code', 'Value']]\\\n",
    "    .rename(columns={'Value': 'MedianIncomeLC'})\\\n",
    "    .merge(df_currency, how='left', on=['LOCATION', 'TIME'])\\\n",
    "    .merge(df_currency[df_currency['TIME'] == 2018][['LOCATION', 'PPPFactor']]\\\n",
    "           .rename(columns={'PPPFactor': 'PPPFactor2018'}),\n",
    "           on = 'LOCATION')\n",
    "df_pay['NatMedian']\\\n",
    "    = df_pay['MedianIncomeLC'] / df_pay['EXCH']\n",
    "df_pay = df_pay.merge(\n",
    "    df_surv.groupby('LOCATION')['Pay'].median().rename('SOMedian'),\n",
    "    on = 'LOCATION')\n",
    "df_pay = df_pay.merge(\n",
    "    df_surv.groupby('LOCATION')['Pay'].mean().rename('SOMean'),\n",
    "    on = 'LOCATION')\n",
    "df_pay['NatMedianPPP']\\\n",
    "    = df_pay['NatMedian'] * df_pay['PPPFactor']\n",
    "df_pay['SOMedianPPP']\\\n",
    "    = df_pay['SOMedian'] * df_pay['PPPFactor2018']"
   ]
  },
  {
   "cell_type": "markdown",
   "metadata": {},
   "source": [
    "Now we load the Gallup survey median income data.  This was just copied from Wikipedia, since it's not available as CSV or through an API.  The data is originanlly PPP-adjusted, so we compute also the unadjusted version."
   ]
  },
  {
   "cell_type": "code",
   "execution_count": 6,
   "metadata": {},
   "outputs": [],
   "source": [
    "gallup_medians = pd.Series({\n",
    " 'USA': 43585,\n",
    " 'IND':  3168,\n",
    " 'GBR': 31617,\n",
    " 'DEU': 33333,\n",
    " 'CAN': 41280,\n",
    " 'FRA': 31112,\n",
    " 'RUS': 11724,\n",
    " 'AUS': 46555,\n",
    " 'BRA':  7522,\n",
    " 'NLD': 38584,\n",
    " 'ESP': 21959,\n",
    " 'POL': 15338,\n",
    " 'ITA': 20085,\n",
    " 'SWE': 50514,\n",
    "}, name='GallupMedianPPP')\n",
    "\n",
    "df_pay = df_pay.merge(\n",
    "    gallup_medians, left_on='LOCATION', right_index=True)\n",
    "df_pay['GallupMedian'] = df_pay['GallupMedianPPP']\\\n",
    "    / df_pay['PPPFactor2018']\n",
    "    \n",
    "# Compute ratios between the national and the developer median salaries\n",
    "df_pay['Ratio']\\\n",
    "    = df_pay['SOMedian'] / df_pay['NatMedian']\n",
    "df_pay['RatioGalup']\\\n",
    "    = df_pay['SOMedian'] / df_pay['GallupMedian']"
   ]
  },
  {
   "cell_type": "markdown",
   "metadata": {},
   "source": [
    "Below are some computations of means of SO salary data, dropping everything above a certain (0.95) quatile.  I also didn't use this information for the blog, because it didn't seem a meaninful comparison."
   ]
  },
  {
   "cell_type": "code",
   "execution_count": 7,
   "metadata": {},
   "outputs": [],
   "source": [
    "means = {}\n",
    "for loc in interesting_countries:\n",
    "    salaries = df_surv[df_surv['LOCATION'] == loc]['Pay']\n",
    "    lim = salaries.quantile(0.95)\n",
    "    means[loc] = salaries[salaries < lim].mean()\n",
    "\n",
    "df_pay = df_pay.merge(\n",
    "    pd.Series(means, name='SOMeanAdj'), left_on='LOCATION', right_index=True)"
   ]
  },
  {
   "cell_type": "code",
   "execution_count": null,
   "metadata": {},
   "outputs": [],
   "source": []
  },
  {
   "cell_type": "markdown",
   "metadata": {},
   "source": [
    "Several plots using the dataframes contructed"
   ]
  },
  {
   "cell_type": "code",
   "execution_count": 8,
   "metadata": {},
   "outputs": [
    {
     "data": {
      "text/plain": [
       "<matplotlib.axes._subplots.AxesSubplot at 0x7f587829e590>"
      ]
     },
     "execution_count": 8,
     "metadata": {},
     "output_type": "execute_result"
    },
    {
     "data": {
      "image/png": "[encoded data removed]",
      "text/plain": [
       "<Figure size 432x288 with 1 Axes>"
      ]
     },
     "metadata": {
      "needs_background": "light"
     },
     "output_type": "display_data"
    }
   ],
   "source": [
    "df_pay[df_pay['LOCATION'].isin(interesting_countries)]\\\n",
    "    .sort_values('NatMedian')\\\n",
    "    .plot.barh(x='LOCATION', y=['NatMedian', 'SOMedian'])"
   ]
  },
  {
   "cell_type": "code",
   "execution_count": 9,
   "metadata": {},
   "outputs": [
    {
     "data": {
      "image/png": "[encoded data removed]",
      "text/plain": [
       "<Figure size 432x288 with 1 Axes>"
      ]
     },
     "metadata": {
      "needs_background": "light"
     },
     "output_type": "display_data"
    }
   ],
   "source": [
    "df_pay[df_pay['LOCATION'].isin(interesting_countries)]\\\n",
    "    .sort_values('GallupMedian')\\\n",
    "    .plot.barh(x='LOCATION', y=['GallupMedianPPP', 'SOMedianPPP'])\n",
    "plt.savefig('median-salaries-ppp.png')"
   ]
  },
  {
   "cell_type": "code",
   "execution_count": 10,
   "metadata": {},
   "outputs": [
    {
     "data": {
      "image/png": "[encoded data removed]",
      "text/plain": [
       "<Figure size 432x288 with 1 Axes>"
      ]
     },
     "metadata": {
      "needs_background": "light"
     },
     "output_type": "display_data"
    }
   ],
   "source": [
    "df_pay[df_pay['LOCATION'].isin(interesting_countries)]\\\n",
    "    .sort_values('GallupMedian')\\\n",
    "    .plot.barh(x='LOCATION', y=['GallupMedian', 'SOMedian'])\n",
    "plt.savefig('median-salaries.png')"
   ]
  },
  {
   "cell_type": "code",
   "execution_count": 11,
   "metadata": {},
   "outputs": [
    {
     "data": {
      "text/plain": [
       "<matplotlib.axes._subplots.AxesSubplot at 0x7f5835483390>"
      ]
     },
     "execution_count": 11,
     "metadata": {},
     "output_type": "execute_result"
    },
    {
     "data": {
      "image/png": "[encoded data removed]",
      "text/plain": [
       "<Figure size 432x288 with 1 Axes>"
      ]
     },
     "metadata": {
      "needs_background": "light"
     },
     "output_type": "display_data"
    }
   ],
   "source": [
    "df_pay[df_pay['LOCATION'].isin(interesting_countries)]\\\n",
    "    .sort_values('SOMedianPPP')\\\n",
    "    .plot.barh(x='LOCATION', y='SOMedianPPP')"
   ]
  },
  {
   "cell_type": "code",
   "execution_count": 20,
   "metadata": {},
   "outputs": [
    {
     "data": {
      "text/plain": [
       "<matplotlib.axes._subplots.AxesSubplot at 0x7f5835149dd0>"
      ]
     },
     "execution_count": 20,
     "metadata": {},
     "output_type": "execute_result"
    },
    {
     "data": {
      "image/png": "[encoded data removed]",
      "text/plain": [
       "<Figure size 432x288 with 1 Axes>"
      ]
     },
     "metadata": {
      "needs_background": "light"
     },
     "output_type": "display_data"
    }
   ],
   "source": [
    "df_pay[df_pay['LOCATION'].isin(interesting_countries)]\\\n",
    "    .sort_values('SOMeanAdj')\\\n",
    "    .plot.barh(x='LOCATION', y=['SOMedian', 'SOMeanAdj'])"
   ]
  },
  {
   "cell_type": "markdown",
   "metadata": {},
   "source": [
    "# Wage gap\n",
    "\n",
    "First we compute the ratio of male respondents"
   ]
  },
  {
   "cell_type": "code",
   "execution_count": 14,
   "metadata": {},
   "outputs": [],
   "source": [
    "df_surv['IsMale'] = (df_surv['Gender'] == 'Male')\n",
    "gender_ratios = df_surv[df_surv['Gender'].notnull()]\\\n",
    "    .groupby('LOCATION')['IsMale']\\\n",
    "    .mean()[interesting_countries]"
   ]
  },
  {
   "cell_type": "markdown",
   "metadata": {},
   "source": [
    "Load OECD data"
   ]
  },
  {
   "cell_type": "code",
   "execution_count": 15,
   "metadata": {},
   "outputs": [],
   "source": [
    "oecd_wagegap = pd.read_csv('gendergap.csv')\n",
    "oecd_wagegap = oecd_wagegap[oecd_wagegap['SUBJECT'] == 'EMPLOYEE'].sort_values(\n",
    "    'TIME',ascending=False).drop_duplicates('LOCATION').sort_values(\n",
    "        'Value')[['LOCATION', 'Value']]"
   ]
  },
  {
   "cell_type": "markdown",
   "metadata": {},
   "source": [
    "Compute the wage gap"
   ]
  },
  {
   "cell_type": "code",
   "execution_count": 16,
   "metadata": {},
   "outputs": [],
   "source": [
    "so_median_male = df_surv[(df_surv['Gender'] == 'Male')\n",
    "                    & (df_surv['Employment'] == 'Employed full-time')]\\\n",
    "                    .groupby('LOCATION')['Pay']\\\n",
    "                    .median()\n",
    "so_enough_female = df_surv[(df_surv['Gender'] == 'Female')\n",
    "                      & (df_surv['Employment'] == 'Employed full-time')]\\\n",
    "                      .groupby('LOCATION')['Pay'].count() >= 30\n",
    "so_median_female = df_surv[(df_surv['Gender'] == 'Female')\n",
    "                      & (df_surv['Employment'] == 'Employed full-time')]\\\n",
    "                      .groupby('LOCATION')['Pay'].median()\\\n",
    "                      [so_enough_female]\n",
    "so_wagegap = (100*(so_median_male - so_median_female)/so_median_male)\\\n",
    "    .rename('WageGap')\\\n",
    "    .dropna()\n",
    "\n",
    "df_wg = oecd_wagegap.merge(so_wagegap, left_on='LOCATION', right_on='LOCATION', how='inner')\n"
   ]
  },
  {
   "cell_type": "markdown",
   "metadata": {},
   "source": [
    "Plot a graph"
   ]
  },
  {
   "cell_type": "code",
   "execution_count": 17,
   "metadata": {},
   "outputs": [
    {
     "data": {
      "image/png": "[encoded data removed]",
      "text/plain": [
       "<Figure size 432x288 with 1 Axes>"
      ]
     },
     "metadata": {
      "needs_background": "light"
     },
     "output_type": "display_data"
    }
   ],
   "source": [
    "wagegap_plot = df_wg.sort_values('Value').plot.barh(x='LOCATION')\n",
    "wagegap_plot.legend(['OECD Wage Gap', 'SO Wage Gap'])\n",
    "wagegap_plot.set_ylabel('Country')\n",
    "plt.savefig('wage-gap.png')"
   ]
  },
  {
   "cell_type": "markdown",
   "metadata": {},
   "source": [
    "# Job satisfaction\n",
    "\n",
    "Compute fraction of satisfied and extremely satisfied respondents by country"
   ]
  },
  {
   "cell_type": "code",
   "execution_count": 18,
   "metadata": {},
   "outputs": [],
   "source": [
    "df_satisf = pd.DataFrame(index=interesting_countries)\n",
    "\n",
    "for loc in interesting_countries:\n",
    "    total = df_surv[df_surv['LOCATION'] == loc]['JobSatisfaction'].notnull().sum()\n",
    "    df_satisf.loc[loc, 'Satisfied']\\\n",
    "        = df_surv[df_surv['LOCATION'] == loc]['JobSatisfaction']\\\n",
    "          .str.contains(' satisfied').sum() / total\n",
    "    df_satisf.loc[loc, 'Extremely Satisfied']\\\n",
    "        = df_surv[df_surv['LOCATION'] == loc]['JobSatisfaction']\\\n",
    "          .eq('Extremely satisfied').sum() / total\n",
    "    "
   ]
  },
  {
   "cell_type": "markdown",
   "metadata": {},
   "source": [
    "Make a graph"
   ]
  },
  {
   "cell_type": "code",
   "execution_count": 19,
   "metadata": {},
   "outputs": [
    {
     "data": {
      "image/png": "[encoded data removed]",
      "text/plain": [
       "<Figure size 432x288 with 1 Axes>"
      ]
     },
     "metadata": {
      "needs_background": "light"
     },
     "output_type": "display_data"
    }
   ],
   "source": [
    "(100 * df_satisf.sort_values('Extremely Satisfied')).plot.barh()\n",
    "plt.savefig('satisfaction.png')\n"
   ]
  }
 ],
 "metadata": {
  "kernelspec": {
   "display_name": "Python 3",
   "language": "python",
   "name": "python3"
  },
  "language_info": {
   "codemirror_mode": {
    "name": "ipython",
    "version": 3
   },
   "file_extension": ".py",
   "mimetype": "text/x-python",
   "name": "python",
   "nbconvert_exporter": "python",
   "pygments_lexer": "ipython3",
   "version": "3.7.5"
  }
 },
 "nbformat": 4,
 "nbformat_minor": 2
}
